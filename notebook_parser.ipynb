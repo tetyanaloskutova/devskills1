{
 "cells": [
  {
   "cell_type": "code",
   "execution_count": 13,
   "metadata": {
    "collapsed": true
   },
   "outputs": [
    {
     "name": "stdout",
     "output_type": "stream",
     "text": [
      "Read easy file\n[[0 'M' 21 124.10592492857941]\n [1 'F' 26 130.6696354990984]\n [2 nan 27 113.9099206787524]\n ..., \n [9997 'M' 20 141.52960207880076]\n [9998 'F' 25 184.64666782939054]\n [9999 'F' 22 104.93503276886801]]\n['CID', 'GENDER', 'AGE', 'SPEND']\nRead medium file\n[[0 'M' 21 124.10592492857941]\n [1 'F' 26 130.6696354990984]\n [2 nan 27 113.9099206787524]\n ..., \n [9997 'M' 20 141.52960207880076]\n [9998 'F' 25 184.64666782939054]\n [9999 'F' 22 104.93503276886801]]\n['CID', 'GENDER', 'AGE', 'SPEND']\nRead hard file\n[[0 'M' 21 124.10592492857941 nan]\n [1 'F' 26 130.6696354990984 nan]\n [2 nan 27 113.9099206787524 nan]\n ..., \n [9997 'M' 20 141.52960207880076 nan]\n [9998 'F' 25 184.64666782939054 nan]\n [9999 'F' 22 104.93503276886801 nan]]\n0\n[[0 'M' 21 124.10592492857941]\n [1 'F' 26 130.6696354990984]\n [2 nan 27 113.9099206787524]\n ..., \n [9997 'M' 20 141.52960207880076]\n [9998 'F' 25 184.64666782939054]\n [9999 'F' 22 104.93503276886801]]\n['CID', 'GENDER', 'AGE', 'SPEND']\nAre there any nulls in the data?\n        CID GENDER    AGE  SPEND\n0     False  False  False  False\n1     False  False  False  False\n2     False   True  False  False\n3     False  False  False  False\n4     False  False  False  False\n5     False  False  False  False\n6     False  False  False  False\n7     False  False  False  False\n8     False  False  False   True\n9     False  False  False  False\n10    False  False  False  False\n11    False  False  False  False\n12    False  False  False  False\n13    False  False  False  False\n14    False  False  False   True\n15    False  False  False  False\n16    False  False  False  False\n17    False  False  False  False\n18    False  False  False   True\n19    False   True  False  False\n20    False  False  False  False\n21    False  False  False  False\n22    False  False  False  False\n23    False  False  False  False\n24    False  False  False   True\n25    False  False  False  False\n26    False  False  False  False\n27    False  False  False  False\n28    False  False  False  False\n29    False  False  False  False\n...     ...    ...    ...    ...\n9970  False  False  False   True\n9971  False   True  False  False\n9972  False  False  False  False\n9973  False  False  False  False\n9974  False  False  False  False\n9975  False   True  False   True\n9976  False  False  False   True\n9977  False   True  False  False\n9978  False  False  False  False\n9979  False  False  False  False\n9980  False  False  False  False\n9981  False  False  False  False\n9982  False  False  False  False\n9983  False  False  False  False\n9984  False   True  False  False\n9985  False  False  False  False\n9986  False  False  False   True\n9987  False  False  False  False\n9988  False  False  False  False\n9989  False  False  False  False\n9990  False  False  False   True\n9991  False  False  False  False\n9992  False   True  False  False\n9993  False  False  False  False\n9994  False  False  False  False\n9995  False  False  False  False\n9996  False  False  False  False\n9997  False  False  False  False\n9998  False  False  False  False\n9999  False  False  False  False\n\n[10000 rows x 4 columns]\nTesting CID column\n0    0\n1    1\n2    2\n3    3\n4    4\n5    5\n6    6\n7    7\n8    8\n9    9\nName: CID, dtype: int64\nTesting SPEND column\n0    124.105925\n1    130.669635\n2    113.909921\n3    115.658336\n4     64.174437\n5    124.502010\n6    106.479038\n7    104.106426\n8           NaN\n9     72.873095\nName: SPEND, dtype: float64\nEmpty DataFrame\nColumns: [CID, GENDER, AGE, SPEND]\nIndex: []\nTesting AGE column\n0    21\n1    26\n2    27\n3    26\n4    25\n5    26\n6    28\n7    24\n8    24\n9    23\nName: AGE, dtype: int64\nEmpty DataFrame\nColumns: [CID, GENDER, AGE, SPEND]\nIndex: []\nTesting GENDER column\n0      M\n1      F\n2    NaN\n3      F\n4      F\n5      F\n6      M\n7      M\n8      M\n9      F\nName: GENDER, dtype: object\nA view on the fixed dataset\n   CID GENDER  AGE       SPEND\n0    0      M   21  124.105925\n1    1      F   26  130.669635\n2    2      N   27  113.909921\n3    3      F   26  115.658336\n4    4      F   25   64.174437\n5    5      F   26  124.502010\n6    6      M   28  106.479038\n7    7      M   24  104.106426\n8    8      M   24    0.000000\n9    9      F   23   72.873095\n"
     ]
    }
   ],
   "source": [
    "import pandas\n",
    "\n",
    "filename_easy = \"dsbase-easy.csv\"\n",
    "filename_medium = \"dsbase-medium.csv\"\n",
    "filename_hard = \"dsbase-hard.csv\"\n",
    "\n",
    "# Read the 'easy' file\n",
    "df = pandas.read_csv(filename_easy)\n",
    "print(\"Read easy file\")\n",
    "print(df.values)\n",
    "print(list(df))\n",
    "\n",
    "\n",
    "# Read the 'medium' file\n",
    "df = pandas.read_csv(filename_medium, lineterminator='#', delimiter='|' )\n",
    "print(\"Read medium file\")\n",
    "print(df.values)\n",
    "print(list(df))\n",
    "\n",
    "\n",
    "# Read the 'hard' file\n",
    "df = pandas.read_csv(filename_hard, lineterminator='#', delimiter='|' )\n",
    "print(\"Read hard file\")\n",
    "print(df.values)\n",
    "# the header has an extra column\n",
    "print(len(df[df.SPEND.notnull()])) # this is 0, so the only row with 6 columns is the header\n",
    "# reread the data without the header\n",
    "df = pandas.read_csv(filename_hard, lineterminator='#', delimiter='|', skiprows = 1, header = None, names=['CID','GENDER','AGE','SPEND'])\n",
    "print(df.values)\n",
    "print(list(df))\n",
    "\n",
    "print(\"Are there any nulls in the data?\")\n",
    "print(df.isnull()) # Many nulls, will fix by column\n",
    "\n",
    "print(\"Testing CID column\")\n",
    "print(df['CID'].head(10)) # type is int64, so it seems to be right\n",
    "df[df.CID.isnull()] # no nulls here\n",
    "# are there any duplicates?\n",
    "ids = df['CID']\n",
    "df[ids.isin(ids[ids.duplicated()])].sort_values(by='CID')\n",
    "\n",
    "print(\"Testing SPEND column\")\n",
    "print(df['SPEND'].head(10)) #type float63, so no wrong character values\n",
    "df[df.SPEND.isnull()] # a few rows with nulls. I replace with 0, another solution can be to reject the rows. The solution would depend on a particular need\n",
    "df['SPEND'].fillna(0, inplace=True)\n",
    "print(df[df.SPEND.isnull()]) \n",
    "\n",
    "print(\"Testing AGE column\")\n",
    "print(df['AGE'].head(10)) #type int64, so no wrong character values\n",
    "print(df[df.AGE.isnull()] ) #no nulls\n",
    "# if age is more than 120, probably, that's an error. Again, I replace with 0, but another solution may be necessary depending on the needs\n",
    "df.ix[df.AGE > 120, 'AGE'] = 0\n",
    "\n",
    "print(\"Testing GENDER column\")\n",
    "print(df['GENDER'].head(10)) # type object, need to check if gender is only M or F. If not, replace with N for 'Not known'\n",
    "df['GENDER'].fillna(0, inplace=True) # this seems to be unnecessary in python but in other languages may be necessary to get rid of nulls before comparing characters\n",
    "df['GENDER'] = df['GENDER'].apply(lambda x: 'N' if (x != 'M' and x != 'F') else x)\n",
    "\n",
    "print(\"A view on the fixed dataset\")\n",
    "\n",
    "print(df.head(10))\n",
    "# I did not find the name of any Asian country because there seem to be only charachers for SUDAN and OMAN but they are not in order"
   ]
  },
  {
   "cell_type": "code",
   "execution_count": 7,
   "metadata": {},
   "outputs": [],
   "source": [
    ""
   ]
  },
  {
   "cell_type": "code",
   "execution_count": 7,
   "metadata": {},
   "outputs": [],
   "source": [
    ""
   ]
  },
  {
   "cell_type": "code",
   "execution_count": null,
   "metadata": {},
   "outputs": [],
   "source": [
    ""
   ]
  }
 ],
 "metadata": {
  "kernelspec": {
   "display_name": "Python 2",
   "language": "python",
   "name": "python2"
  },
  "language_info": {
   "codemirror_mode": {
    "name": "ipython",
    "version": 2.0
   },
   "file_extension": ".py",
   "mimetype": "text/x-python",
   "name": "python",
   "nbconvert_exporter": "python",
   "pygments_lexer": "ipython2",
   "version": "2.7.6"
  }
 },
 "nbformat": 4,
 "nbformat_minor": 0
}